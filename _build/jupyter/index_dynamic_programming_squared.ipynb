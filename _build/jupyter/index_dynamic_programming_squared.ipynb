{
 "cells": [
  {
   "cell_type": "markdown",
   "metadata": {},
   "source": [
    "\n",
    "<a id='topics-in-economic-dynamics'></a>\n",
    "<ul class=\"badges\">\n",
    "        <li><a href=\"#\"><img src=\"/_static/img/jupyter-notebook-download-blue.svg\" id=\"notebook_download_badge\"></a></li>\n",
    "        <li><a href=\"#\"><img src=\"/_static/img/pdf-download-blue.svg\" id=\"pdf_download_badge\"></a></li>\n",
    "        <li><a href=\"/status.html\"><img src=\"https://img.shields.io/badge/Execution%20test-not%20available-lightgrey.svg\" id=\"executability_status_badge\"></a></li>\n",
    "</ul>\n",
    "\n",
    "<script>\n",
    "var path = window.location.pathname;\n",
    "var pageName = path.split(\"/\").pop().split(\".\")[0];\n",
    "var notebookDownloadLink = [\"/\", \"_downloads/ipynb/jl/\", pageName, \".ipynb\"].join(\"\");\n",
    "document.getElementById('notebook_download_badge').parentElement.setAttribute('href', notebookDownloadLink);\n",
    "var pdfDownloadLink = [\"/\", \"_downloads/pdf/jl/\", pageName, \".pdf\"].join(\"\");\n",
    "document.getElementById('pdf_download_badge').parentElement.setAttribute('href', pdfDownloadLink);\n",
    "</script>\n",
    "\n",
    "<a href=\"/status.html\"><img src=\"https://img.shields.io/badge/Execution%20test-not%20available-lightgrey.svg\" id=\"executability_status_badge\"></a>\n",
    "\n",
    "<div class=\"how-to\">\n",
    "        <a href=\"#\" class=\"toggle\"><span class=\"icon icon-angle-double-down\"></span>How to read this lecture...</a>\n",
    "        <div class=\"how-to-content\">\n",
    "                <p>Code should execute sequentially if run in a Jupyter notebook</p>\n",
    "                <ul>\n",
    "                        <li>See the <a href=\"/jl/getting_started.html\">set up page</a> to install Jupyter, Julia (1.0+) and all necessary libraries</li>\n",
    "                        <li>Please direct feedback to <a href=\"mailto:contact@quantecon.org\">contact@quantecon.org</a> or the <a href=\"http://discourse.quantecon.org/\">discourse forum</a></li>\n",
    "                        <li>For some notebooks, enable content with \"Trust\" on the command tab of Jupyter lab</li>\n",
    "                        <li>If using QuantEcon lectures for the first time on a computer, execute <tt>] add InstantiateFromURL</tt> inside of a notebook or the REPL</li>\n",
    "                </ul>\n",
    "        </div>\n",
    "</div>"
   ]
  },
  {
   "cell_type": "markdown",
   "metadata": {},
   "source": [
    "# Dynamic Programming Squared\n",
    "\n",
    "Here we look at models in which a value function for one Bellman equation has as an argument the value function for another Bellman equation"
   ]
  },
  {
   "cell_type": "markdown",
   "metadata": {},
   "source": [
    "## Lectures\n",
    "\n",
    "- [Dynamic Stackelberg Problems](https://lectures.quantecon.org/jl/dyn_stack.html)\n",
    "  - [Overview](https://lectures.quantecon.org/jl/dyn_stack.html#overview)\n",
    "  - [The Stackelberg Problem](https://lectures.quantecon.org/jl/dyn_stack.html#the-stackelberg-problem)\n",
    "  - [Solving the Stackelberg Problem](https://lectures.quantecon.org/jl/dyn_stack.html#solving-the-stackelberg-problem)\n",
    "  - [Shadow prices](https://lectures.quantecon.org/jl/dyn_stack.html#shadow-prices)\n",
    "  - [A Large Firm With a Competitive Fringe](https://lectures.quantecon.org/jl/dyn_stack.html#a-large-firm-with-a-competitive-fringe)\n",
    "  - [Concluding Remarks](https://lectures.quantecon.org/jl/dyn_stack.html#concluding-remarks)\n",
    "  - [Exercises](https://lectures.quantecon.org/jl/dyn_stack.html#exercises)\n",
    "- [Optimal Taxation in an LQ Economy](https://lectures.quantecon.org/jl/lqramsey.html)\n",
    "  - [Overview](https://lectures.quantecon.org/jl/lqramsey.html#overview)\n",
    "  - [The Ramsey Problem](https://lectures.quantecon.org/jl/lqramsey.html#the-ramsey-problem)\n",
    "  - [Implementation](https://lectures.quantecon.org/jl/lqramsey.html#implementation)\n",
    "  - [Examples](https://lectures.quantecon.org/jl/lqramsey.html#examples)\n",
    "  - [Exercises](https://lectures.quantecon.org/jl/lqramsey.html#exercises)\n",
    "  - [Solutions](https://lectures.quantecon.org/jl/lqramsey.html#solutions)\n",
    "- [Optimal Taxation with State-Contingent Debt](https://lectures.quantecon.org/jl/opt_tax_recur.html)\n",
    "  - [Overview](https://lectures.quantecon.org/jl/opt_tax_recur.html#overview)\n",
    "  - [A Competitive Equilibrium with Distorting Taxes](https://lectures.quantecon.org/jl/opt_tax_recur.html#a-competitive-equilibrium-with-distorting-taxes)\n",
    "  - [Recursive Formulation of the Ramsey problem](https://lectures.quantecon.org/jl/opt_tax_recur.html#recursive-formulation-of-the-ramsey-problem)\n",
    "  - [Examples](https://lectures.quantecon.org/jl/opt_tax_recur.html#examples)\n",
    "  - [Further Comments](https://lectures.quantecon.org/jl/opt_tax_recur.html#further-comments)\n",
    "- [Optimal Taxation without State-Contingent Debt](https://lectures.quantecon.org/jl/amss.html)\n",
    "  - [Overview](https://lectures.quantecon.org/jl/amss.html#overview)\n",
    "  - [Competitive Equilibrium with Distorting Taxes](https://lectures.quantecon.org/jl/amss.html#competitive-equilibrium-with-distorting-taxes)\n",
    "  - [Recursive Version of AMSS Model](https://lectures.quantecon.org/jl/amss.html#recursive-version-of-amss-model)\n",
    "  - [Examples](https://lectures.quantecon.org/jl/amss.html#examples)"
   ]
  }
 ],
 "metadata": {
  "filename": "index_dynamic_programming_squared.rst",
  "kernelspec": {
   "display_name": "Julia",
   "language": "julia",
   "name": "julia-1.0"
  },
  "title": "Dynamic Programming Squared"
 },
 "nbformat": 4,
 "nbformat_minor": 2
}