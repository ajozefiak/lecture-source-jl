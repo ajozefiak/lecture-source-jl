{
 "cells": [
  {
   "cell_type": "markdown",
   "metadata": {},
   "source": [
    "\n",
    "<a id='multi-agent-models'></a>\n",
    "<ul class=\"badges\">\n",
    "        <li><a href=\"#\"><img src=\"/_static/img/jupyter-notebook-download-blue.svg\" id=\"notebook_download_badge\"></a></li>\n",
    "        <li><a href=\"#\"><img src=\"/_static/img/pdf-download-blue.svg\" id=\"pdf_download_badge\"></a></li>\n",
    "        <li><a href=\"/status.html\"><img src=\"https://img.shields.io/badge/Execution%20test-not%20available-lightgrey.svg\" id=\"executability_status_badge\"></a></li>\n",
    "</ul>\n",
    "\n",
    "<script>\n",
    "var path = window.location.pathname;\n",
    "var pageName = path.split(\"/\").pop().split(\".\")[0];\n",
    "var notebookDownloadLink = [\"/\", \"_downloads/ipynb/jl/\", pageName, \".ipynb\"].join(\"\");\n",
    "document.getElementById('notebook_download_badge').parentElement.setAttribute('href', notebookDownloadLink);\n",
    "var pdfDownloadLink = [\"/\", \"_downloads/pdf/jl/\", pageName, \".pdf\"].join(\"\");\n",
    "document.getElementById('pdf_download_badge').parentElement.setAttribute('href', pdfDownloadLink);\n",
    "</script>\n",
    "\n",
    "<a href=\"/status.html\"><img src=\"https://img.shields.io/badge/Execution%20test-not%20available-lightgrey.svg\" id=\"executability_status_badge\"></a>\n",
    "\n",
    "<div class=\"how-to\">\n",
    "        <a href=\"#\" class=\"toggle\"><span class=\"icon icon-angle-double-down\"></span>How to read this lecture...</a>\n",
    "        <div class=\"how-to-content\">\n",
    "                <p>Code should execute sequentially if run in a Jupyter notebook</p>\n",
    "                <ul>\n",
    "                        <li>See the <a href=\"/jl/getting_started.html\">set up page</a> to install Jupyter, Julia (1.0+) and all necessary libraries</li>\n",
    "                        <li>Please direct feedback to <a href=\"mailto:contact@quantecon.org\">contact@quantecon.org</a> or the <a href=\"http://discourse.quantecon.org/\">discourse forum</a></li>\n",
    "                        <li>For some notebooks, enable content with \"Trust\" on the command tab of Jupyter lab</li>\n",
    "                        <li>If using QuantEcon lectures for the first time on a computer, execute <tt>] add InstantiateFromURL</tt> inside of a notebook or the REPL</li>\n",
    "                </ul>\n",
    "        </div>\n",
    "</div>"
   ]
  },
  {
   "cell_type": "markdown",
   "metadata": {},
   "source": [
    "# Multiple Agent Models\n",
    "\n",
    "These lectures look at important economic models that also illustrate common\n",
    "equilibrium concepts."
   ]
  },
  {
   "cell_type": "markdown",
   "metadata": {},
   "source": [
    "## Lectures\n",
    "\n",
    "- [Schelling’s Segregation Model](https://lectures.quantecon.org/jl/schelling.html)\n",
    "  - [Overview](https://lectures.quantecon.org/jl/schelling.html#overview)\n",
    "  - [The Model](https://lectures.quantecon.org/jl/schelling.html#the-model)\n",
    "  - [Results](https://lectures.quantecon.org/jl/schelling.html#results)\n",
    "  - [Exercises](https://lectures.quantecon.org/jl/schelling.html#exercises)\n",
    "  - [Solutions](https://lectures.quantecon.org/jl/schelling.html#solutions)\n",
    "- [A Lake Model of Employment and Unemployment](https://lectures.quantecon.org/jl/lake_model.html)\n",
    "  - [Overview](https://lectures.quantecon.org/jl/lake_model.html#overview)\n",
    "  - [The Model](https://lectures.quantecon.org/jl/lake_model.html#the-model)\n",
    "  - [Implementation](https://lectures.quantecon.org/jl/lake_model.html#implementation)\n",
    "  - [Dynamics of an Individual Worker](https://lectures.quantecon.org/jl/lake_model.html#dynamics-of-an-individual-worker)\n",
    "  - [Endogenous Job Finding Rate](https://lectures.quantecon.org/jl/lake_model.html#endogenous-job-finding-rate)\n",
    "  - [Exercises](https://lectures.quantecon.org/jl/lake_model.html#exercises)\n",
    "  - [Solutions](https://lectures.quantecon.org/jl/lake_model.html#solutions)\n",
    "- [Rational Expectations Equilibrium](https://lectures.quantecon.org/jl/rational_expectations.html)\n",
    "  - [Overview](https://lectures.quantecon.org/jl/rational_expectations.html#overview)\n",
    "  - [Defining Rational Expectations Equilibrium](https://lectures.quantecon.org/jl/rational_expectations.html#defining-rational-expectations-equilibrium)\n",
    "  - [Computation of an Equilibrium](https://lectures.quantecon.org/jl/rational_expectations.html#computation-of-an-equilibrium)\n",
    "  - [Exercises](https://lectures.quantecon.org/jl/rational_expectations.html#exercises)\n",
    "  - [Solutions](https://lectures.quantecon.org/jl/rational_expectations.html#solutions)\n",
    "- [Markov Perfect Equilibrium](https://lectures.quantecon.org/jl/markov_perf.html)\n",
    "  - [Overview](https://lectures.quantecon.org/jl/markov_perf.html#overview)\n",
    "  - [Background](https://lectures.quantecon.org/jl/markov_perf.html#background)\n",
    "  - [Linear Markov perfect equilibria](https://lectures.quantecon.org/jl/markov_perf.html#linear-markov-perfect-equilibria)\n",
    "  - [Application](https://lectures.quantecon.org/jl/markov_perf.html#application)\n",
    "  - [Exercises](https://lectures.quantecon.org/jl/markov_perf.html#exercises)\n",
    "  - [Solutions](https://lectures.quantecon.org/jl/markov_perf.html#solutions)\n",
    "- [Asset Pricing I: Finite State Models](https://lectures.quantecon.org/jl/markov_asset.html)\n",
    "  - [Overview](https://lectures.quantecon.org/jl/markov_asset.html#overview)\n",
    "  - [Pricing Models](https://lectures.quantecon.org/jl/markov_asset.html#pricing-models)\n",
    "  - [Prices in the Risk Neutral Case](https://lectures.quantecon.org/jl/markov_asset.html#prices-in-the-risk-neutral-case)\n",
    "  - [Asset Prices under Risk Aversion](https://lectures.quantecon.org/jl/markov_asset.html#asset-prices-under-risk-aversion)\n",
    "  - [Exercises](https://lectures.quantecon.org/jl/markov_asset.html#exercises)\n",
    "  - [Solutions](https://lectures.quantecon.org/jl/markov_asset.html#solutions)"
   ]
  }
 ],
 "metadata": {
  "filename": "index_multi_agent_models_undergrad.rst",
  "kernelspec": {
   "display_name": "Julia",
   "language": "julia",
   "name": "julia-1.0"
  },
  "title": "Multiple Agent Models"
 },
 "nbformat": 4,
 "nbformat_minor": 2
}