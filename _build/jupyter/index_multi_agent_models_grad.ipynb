{
 "cells": [
  {
   "cell_type": "markdown",
   "metadata": {},
   "source": [
    "\n",
    "<a id='multi-agent-models'></a>\n",
    "<ul class=\"badges\">\n",
    "        <li><a href=\"#\"><img src=\"/_static/img/jupyter-notebook-download-blue.svg\" id=\"notebook_download_badge\"></a></li>\n",
    "        <li><a href=\"#\"><img src=\"/_static/img/pdf-download-blue.svg\" id=\"pdf_download_badge\"></a></li>\n",
    "        <li><a href=\"/status.html\"><img src=\"https://img.shields.io/badge/Execution%20test-not%20available-lightgrey.svg\" id=\"executability_status_badge\"></a></li>\n",
    "</ul>\n",
    "\n",
    "<script>\n",
    "var path = window.location.pathname;\n",
    "var pageName = path.split(\"/\").pop().split(\".\")[0];\n",
    "var notebookDownloadLink = [\"/\", \"_downloads/ipynb/jl/\", pageName, \".ipynb\"].join(\"\");\n",
    "document.getElementById('notebook_download_badge').parentElement.setAttribute('href', notebookDownloadLink);\n",
    "var pdfDownloadLink = [\"/\", \"_downloads/pdf/jl/\", pageName, \".pdf\"].join(\"\");\n",
    "document.getElementById('pdf_download_badge').parentElement.setAttribute('href', pdfDownloadLink);\n",
    "</script>\n",
    "\n",
    "<a href=\"/status.html\"><img src=\"https://img.shields.io/badge/Execution%20test-not%20available-lightgrey.svg\" id=\"executability_status_badge\"></a>\n",
    "\n",
    "<div class=\"how-to\">\n",
    "        <a href=\"#\" class=\"toggle\"><span class=\"icon icon-angle-double-down\"></span>How to read this lecture...</a>\n",
    "        <div class=\"how-to-content\">\n",
    "                <p>Code should execute sequentially if run in a Jupyter notebook</p>\n",
    "                <ul>\n",
    "                        <li>See the <a href=\"/jl/getting_started.html\">set up page</a> to install Jupyter, Julia (1.0+) and all necessary libraries</li>\n",
    "                        <li>Please direct feedback to <a href=\"mailto:contact@quantecon.org\">contact@quantecon.org</a> or the <a href=\"http://discourse.quantecon.org/\">discourse forum</a></li>\n",
    "                        <li>For some notebooks, enable content with \"Trust\" on the command tab of Jupyter lab</li>\n",
    "                        <li>If using QuantEcon lectures for the first time on a computer, execute <tt>] add InstantiateFromURL</tt> inside of a notebook or the REPL</li>\n",
    "                </ul>\n",
    "        </div>\n",
    "</div>"
   ]
  },
  {
   "cell_type": "markdown",
   "metadata": {},
   "source": [
    "# Multiple Agent Models\n",
    "\n",
    "These lectures look at important economic models that also illustrate common\n",
    "equilibrium concepts."
   ]
  },
  {
   "cell_type": "markdown",
   "metadata": {},
   "source": [
    "## Lectures\n",
    "\n",
    "- [Asset Pricing II: The Lucas Asset Pricing Model](https://lectures.quantecon.org/jl/lucas_model.html)\n",
    "  - [Overview](https://lectures.quantecon.org/jl/lucas_model.html#overview)\n",
    "  - [The Lucas Model](https://lectures.quantecon.org/jl/lucas_model.html#the-lucas-model)\n",
    "  - [Exercises](https://lectures.quantecon.org/jl/lucas_model.html#exercises)\n",
    "  - [Solutions](https://lectures.quantecon.org/jl/lucas_model.html#solutions)\n",
    "- [Uncertainty Traps](https://lectures.quantecon.org/jl/uncertainty_traps.html)\n",
    "  - [Overview](https://lectures.quantecon.org/jl/uncertainty_traps.html#overview)\n",
    "  - [The Model](https://lectures.quantecon.org/jl/uncertainty_traps.html#the-model)\n",
    "  - [Implementation](https://lectures.quantecon.org/jl/uncertainty_traps.html#implementation)\n",
    "  - [Results](https://lectures.quantecon.org/jl/uncertainty_traps.html#results)\n",
    "  - [Exercises](https://lectures.quantecon.org/jl/uncertainty_traps.html#exercises)\n",
    "  - [Solutions](https://lectures.quantecon.org/jl/uncertainty_traps.html#solutions)\n",
    "  - [Exercise 2](https://lectures.quantecon.org/jl/uncertainty_traps.html#id6)\n",
    "- [The Aiyagari Model](https://lectures.quantecon.org/jl/aiyagari.html)\n",
    "  - [Overview](https://lectures.quantecon.org/jl/aiyagari.html#overview)\n",
    "  - [The Economy](https://lectures.quantecon.org/jl/aiyagari.html#the-economy)\n",
    "  - [Firms](https://lectures.quantecon.org/jl/aiyagari.html#firms)\n",
    "  - [Code](https://lectures.quantecon.org/jl/aiyagari.html#code)\n",
    "- [Default Risk and Income Fluctuations](https://lectures.quantecon.org/jl/arellano.html)\n",
    "  - [Overview](https://lectures.quantecon.org/jl/arellano.html#overview)\n",
    "  - [Structure](https://lectures.quantecon.org/jl/arellano.html#structure)\n",
    "  - [Equilibrium](https://lectures.quantecon.org/jl/arellano.html#equilibrium)\n",
    "  - [Computation](https://lectures.quantecon.org/jl/arellano.html#computation)\n",
    "  - [Results](https://lectures.quantecon.org/jl/arellano.html#results)\n",
    "  - [Exercises](https://lectures.quantecon.org/jl/arellano.html#exercises)\n",
    "  - [Solutions](https://lectures.quantecon.org/jl/arellano.html#solutions)\n",
    "- [Globalization and Cycles](https://lectures.quantecon.org/jl/matsuyama.html)\n",
    "  - [Overview](https://lectures.quantecon.org/jl/matsuyama.html#overview)\n",
    "  - [Key Ideas](https://lectures.quantecon.org/jl/matsuyama.html#key-ideas)\n",
    "  - [Model](https://lectures.quantecon.org/jl/matsuyama.html#model)\n",
    "  - [Simulation](https://lectures.quantecon.org/jl/matsuyama.html#simulation)\n",
    "  - [Exercises](https://lectures.quantecon.org/jl/matsuyama.html#exercises)\n",
    "  - [Solutions](https://lectures.quantecon.org/jl/matsuyama.html#solutions)"
   ]
  }
 ],
 "metadata": {
  "filename": "index_multi_agent_models_grad.rst",
  "kernelspec": {
   "display_name": "Julia",
   "language": "julia",
   "name": "julia-1.0"
  },
  "title": "Multiple Agent Models"
 },
 "nbformat": 4,
 "nbformat_minor": 2
}