{
 "cells": [
  {
   "cell_type": "markdown",
   "metadata": {},
   "source": [
    "# List Case\n",
    "\n",
    "1. Here’s a list  \n",
    "  \n",
    "  - Here’s a sublist  \n",
    "  - Another one  "
   ]
  },
  {
   "cell_type": "markdown",
   "metadata": {},
   "source": [
    "## Lists and Code\n",
    "\n",
    "1. Here’s a list point  "
   ]
  },
  {
   "cell_type": "code",
   "execution_count": null,
   "metadata": {
    "hide-output": false
   },
   "outputs": [],
   "source": [
    "foo = n -> (x -> x + n) # some code"
   ]
  },
  {
   "cell_type": "markdown",
   "metadata": {},
   "source": [
    "1. The list will resume nummbering at “1”, but should be “2”  "
   ]
  },
  {
   "cell_type": "markdown",
   "metadata": {},
   "source": [
    "## All Three\n",
    "\n",
    "1. foo  \n",
    "1. Run bar  \n",
    "  \n",
    "  - Except when using Windows, when you run  "
   ]
  },
  {
   "cell_type": "code",
   "execution_count": null,
   "metadata": {
    "hide-output": false
   },
   "outputs": [],
   "source": [
    "# foobar"
   ]
  },
  {
   "cell_type": "markdown",
   "metadata": {},
   "source": [
    "1. Run some more code…  "
   ]
  },
  {
   "cell_type": "markdown",
   "metadata": {},
   "source": [
    "# Links"
   ]
  },
  {
   "cell_type": "markdown",
   "metadata": {},
   "source": [
    "## Equation Hyperlinks\n",
    "\n",
    "Say we have an equation\n",
    "\n",
    "\n",
    "<a id='equation-fixed-point-map-test'></a>\n",
    "$$\n",
    "v = f(v) \\tag{1}\n",
    "$$\n",
    "\n",
    "And want to link to it in text [(1)](#equation-fixed-point-map-test)"
   ]
  },
  {
   "cell_type": "markdown",
   "metadata": {},
   "source": [
    "# Render"
   ]
  },
  {
   "cell_type": "markdown",
   "metadata": {},
   "source": [
    "## Small Equations\n",
    "\n",
    "See above."
   ]
  }
 ],
 "metadata": {
  "filename": "jupinx_test.rst",
  "kernelspec": {
   "display_name": "Julia",
   "language": "julia",
   "name": "julia-1.0"
  },
  "title": "List Case"
 },
 "nbformat": 4,
 "nbformat_minor": 2
}