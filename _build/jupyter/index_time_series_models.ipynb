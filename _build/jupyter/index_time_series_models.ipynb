{
 "cells": [
  {
   "cell_type": "markdown",
   "metadata": {},
   "source": [
    "<ul class=\"badges\">\n",
    "        <li><a href=\"#\"><img src=\"/_static/img/jupyter-notebook-download-blue.svg\" id=\"notebook_download_badge\"></a></li>\n",
    "        <li><a href=\"#\"><img src=\"/_static/img/pdf-download-blue.svg\" id=\"pdf_download_badge\"></a></li>\n",
    "        <li><a href=\"/status.html\"><img src=\"https://img.shields.io/badge/Execution%20test-not%20available-lightgrey.svg\" id=\"executability_status_badge\"></a></li>\n",
    "</ul>\n",
    "\n",
    "<script>\n",
    "var path = window.location.pathname;\n",
    "var pageName = path.split(\"/\").pop().split(\".\")[0];\n",
    "var notebookDownloadLink = [\"/\", \"_downloads/ipynb/jl/\", pageName, \".ipynb\"].join(\"\");\n",
    "document.getElementById('notebook_download_badge').parentElement.setAttribute('href', notebookDownloadLink);\n",
    "var pdfDownloadLink = [\"/\", \"_downloads/pdf/jl/\", pageName, \".pdf\"].join(\"\");\n",
    "document.getElementById('pdf_download_badge').parentElement.setAttribute('href', pdfDownloadLink);\n",
    "</script>\n",
    "\n",
    "<a href=\"/status.html\"><img src=\"https://img.shields.io/badge/Execution%20test-not%20available-lightgrey.svg\" id=\"executability_status_badge\"></a>\n",
    "\n",
    "<div class=\"how-to\">\n",
    "        <a href=\"#\" class=\"toggle\"><span class=\"icon icon-angle-double-down\"></span>How to read this lecture...</a>\n",
    "        <div class=\"how-to-content\">\n",
    "                <p>Code should execute sequentially if run in a Jupyter notebook</p>\n",
    "                <ul>\n",
    "                        <li>See the <a href=\"/jl/getting_started.html\">set up page</a> to install Jupyter, Julia (1.0+) and all necessary libraries</li>\n",
    "                        <li>Please direct feedback to <a href=\"mailto:contact@quantecon.org\">contact@quantecon.org</a> or the <a href=\"http://discourse.quantecon.org/\">discourse forum</a></li>\n",
    "                        <li>For some notebooks, enable content with \"Trust\" on the command tab of Jupyter lab</li>\n",
    "                        <li>If using QuantEcon lectures for the first time on a computer, execute <tt>] add InstantiateFromURL</tt> inside of a notebook or the REPL</li>\n",
    "                </ul>\n",
    "        </div>\n",
    "</div>"
   ]
  },
  {
   "cell_type": "markdown",
   "metadata": {},
   "source": [
    "# Time Series Models\n",
    "\n",
    "These lectures look at important concepts in time series that are used in economics"
   ]
  },
  {
   "cell_type": "markdown",
   "metadata": {},
   "source": [
    "## Lectures\n",
    "\n",
    "- [Covariance Stationary Processes](https://lectures.quantecon.org/jl/arma.html)\n",
    "  - [Overview](https://lectures.quantecon.org/jl/arma.html#overview)\n",
    "  - [Introduction](https://lectures.quantecon.org/jl/arma.html#introduction)\n",
    "  - [Spectral Analysis](https://lectures.quantecon.org/jl/arma.html#id12)\n",
    "  - [Implementation](https://lectures.quantecon.org/jl/arma.html#implementation)\n",
    "- [Estimation of Spectra](https://lectures.quantecon.org/jl/estspec.html)\n",
    "  - [Overview](https://lectures.quantecon.org/jl/estspec.html#overview)\n",
    "  - [Periodograms](https://lectures.quantecon.org/jl/estspec.html#periodograms)\n",
    "  - [Smoothing](https://lectures.quantecon.org/jl/estspec.html#smoothing)\n",
    "  - [Exercises](https://lectures.quantecon.org/jl/estspec.html#exercises)\n",
    "  - [Solutions](https://lectures.quantecon.org/jl/estspec.html#solutions)\n",
    "- [Additive Functionals](https://lectures.quantecon.org/jl/additive_functionals.html)\n",
    "  - [Overview](https://lectures.quantecon.org/jl/additive_functionals.html#overview)\n",
    "  - [A Particular Additive Functional](https://lectures.quantecon.org/jl/additive_functionals.html#a-particular-additive-functional)\n",
    "  - [Dynamics](https://lectures.quantecon.org/jl/additive_functionals.html#dynamics)\n",
    "  - [Code](https://lectures.quantecon.org/jl/additive_functionals.html#code)\n",
    "- [Multiplicative Functionals](https://lectures.quantecon.org/jl/multiplicative_functionals.html)\n",
    "  - [Overview](https://lectures.quantecon.org/jl/multiplicative_functionals.html#overview)\n",
    "  - [A Log-Likelihood Process](https://lectures.quantecon.org/jl/multiplicative_functionals.html#a-log-likelihood-process)\n",
    "  - [Benefits from Reduced Aggregate Fluctuations](https://lectures.quantecon.org/jl/multiplicative_functionals.html#benefits-from-reduced-aggregate-fluctuations)\n",
    "- [Classical Control with Linear Algebra](https://lectures.quantecon.org/jl/lu_tricks.html)\n",
    "  - [Overview](https://lectures.quantecon.org/jl/lu_tricks.html#overview)\n",
    "  - [A Control Problem](https://lectures.quantecon.org/jl/lu_tricks.html#a-control-problem)\n",
    "  - [Finite Horizon Theory](https://lectures.quantecon.org/jl/lu_tricks.html#finite-horizon-theory)\n",
    "  - [The Infinite Horizon Limit](https://lectures.quantecon.org/jl/lu_tricks.html#the-infinite-horizon-limit)\n",
    "  - [Undiscounted Problems](https://lectures.quantecon.org/jl/lu_tricks.html#undiscounted-problems)\n",
    "  - [Implementation](https://lectures.quantecon.org/jl/lu_tricks.html#implementation)\n",
    "  - [Exercises](https://lectures.quantecon.org/jl/lu_tricks.html#exercises)\n",
    "- [Classical Filtering With Linear Algebra](https://lectures.quantecon.org/jl/classical_filtering.html)\n",
    "  - [Overview](https://lectures.quantecon.org/jl/classical_filtering.html#overview)\n",
    "  - [Infinite Horizon Prediction and Filtering Problems](https://lectures.quantecon.org/jl/classical_filtering.html#infinite-horizon-prediction-and-filtering-problems)\n",
    "  - [Finite Dimensional Prediction](https://lectures.quantecon.org/jl/classical_filtering.html#finite-dimensional-prediction)\n",
    "  - [Combined Finite Dimensional Control and Prediction](https://lectures.quantecon.org/jl/classical_filtering.html#combined-finite-dimensional-control-and-prediction)\n",
    "  - [Exercises](https://lectures.quantecon.org/jl/classical_filtering.html#exercises)"
   ]
  }
 ],
 "metadata": {
  "filename": "index_time_series_models.rst",
  "kernelspec": {
   "display_name": "Julia",
   "language": "julia",
   "name": "julia-1.0"
  },
  "title": "Time Series Models"
 },
 "nbformat": 4,
 "nbformat_minor": 2
}