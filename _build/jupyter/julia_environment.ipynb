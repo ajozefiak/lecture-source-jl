{
 "cells": [
  {
   "cell_type": "markdown",
   "metadata": {},
   "source": [
    "\n",
    "<a id='julia-environment'></a>\n",
    "<ul class=\"badges\">\n",
    "        <li><a href=\"#\"><img src=\"/_static/img/jupyter-notebook-download-blue.svg\" id=\"notebook_download_badge\"></a></li>\n",
    "        <li><a href=\"#\"><img src=\"/_static/img/pdf-download-blue.svg\" id=\"pdf_download_badge\"></a></li>\n",
    "        <li><a href=\"/status.html\"><img src=\"https://img.shields.io/badge/Execution%20test-not%20available-lightgrey.svg\" id=\"executability_status_badge\"></a></li>\n",
    "</ul>\n",
    "\n",
    "<script>\n",
    "var path = window.location.pathname;\n",
    "var pageName = path.split(\"/\").pop().split(\".\")[0];\n",
    "var notebookDownloadLink = [\"/\", \"_downloads/ipynb/jl/\", pageName, \".ipynb\"].join(\"\");\n",
    "document.getElementById('notebook_download_badge').parentElement.setAttribute('href', notebookDownloadLink);\n",
    "var pdfDownloadLink = [\"/\", \"_downloads/pdf/jl/\", pageName, \".pdf\"].join(\"\");\n",
    "document.getElementById('pdf_download_badge').parentElement.setAttribute('href', pdfDownloadLink);\n",
    "</script>\n",
    "\n",
    "<a href=\"/status.html\"><img src=\"https://img.shields.io/badge/Execution%20test-not%20available-lightgrey.svg\" id=\"executability_status_badge\"></a>\n",
    "\n",
    "<div class=\"how-to\">\n",
    "        <a href=\"#\" class=\"toggle\"><span class=\"icon icon-angle-double-down\"></span>How to read this lecture...</a>\n",
    "        <div class=\"how-to-content\">\n",
    "                <p>Code should execute sequentially if run in a Jupyter notebook</p>\n",
    "                <ul>\n",
    "                        <li>See the <a href=\"/jl/getting_started.html\">set up page</a> to install Jupyter, Julia (1.0+) and all necessary libraries</li>\n",
    "                        <li>Please direct feedback to <a href=\"mailto:contact@quantecon.org\">contact@quantecon.org</a> or the <a href=\"http://discourse.quantecon.org/\">discourse forum</a></li>\n",
    "                        <li>For some notebooks, enable content with \"Trust\" on the command tab of Jupyter lab</li>\n",
    "                        <li>If using QuantEcon lectures for the first time on a computer, execute <tt>] add InstantiateFromURL</tt> inside of a notebook or the REPL</li>\n",
    "                </ul>\n",
    "        </div>\n",
    "</div>"
   ]
  },
  {
   "cell_type": "markdown",
   "metadata": {},
   "source": [
    "# Interacting with Julia"
   ]
  },
  {
   "cell_type": "markdown",
   "metadata": {},
   "source": [
    "## Contents\n",
    "\n",
    "- [Interacting with Julia](#Interacting-with-Julia)  \n",
    "  - [Overview](#Overview)  \n",
    "  - [Using Jupyter](#Using-Jupyter)  \n",
    "  - [Using the REPL](#Using-the-REPL)  "
   ]
  },
  {
   "cell_type": "markdown",
   "metadata": {},
   "source": [
    "## Overview\n",
    "\n",
    "In this lecture we’ll start examining different features of the Julia and Jupyter environments"
   ]
  },
  {
   "cell_type": "markdown",
   "metadata": {},
   "source": [
    "## Using Jupyter\n",
    "\n",
    "\n",
    "<a id='ipython-notebook'></a>"
   ]
  },
  {
   "cell_type": "markdown",
   "metadata": {},
   "source": [
    "### Getting Started\n",
    "\n",
    "Recall that the easiest way to get started with these notebooks is to follow the [cloning instructions](https://lectures.quantecon.org/jl/getting_started.html#clone-lectures) earlier\n",
    "\n",
    "To summarize, if on a desktop you should clone the notebooks repository <https://github.com/quantecon/lecture-jl-notebooks>, `cd` to the folder location in a terminal, and run"
   ]
  },
  {
   "cell_type": "markdown",
   "metadata": {
    "hide-output": false
   },
   "source": [
    "```text\n",
    "jupyter lab\n",
    "```\n"
   ]
  },
  {
   "cell_type": "markdown",
   "metadata": {},
   "source": [
    "If you are using an online Jupyter, then you can directly open a new notebook\n",
    "\n",
    "Either way, your web browser should open to a page that looks something like this\n",
    "\n",
    "<img src=\"https://s3-ap-southeast-2.amazonaws.com/lectures.quantecon.org/jl/_static/figures/starting_nb_julia.png\" style=\"width:100%;height:100%\">\n",
    "\n",
    "  \n",
    "The page you are looking at is called the “dashboard”\n",
    "\n",
    "If you click on “Julia 1.0.x” you should have the option to start a Julia notebook\n",
    "\n",
    "Here’s what your Julia notebook should look like\n",
    "\n",
    "<img src=\"https://s3-ap-southeast-2.amazonaws.com/lectures.quantecon.org/jl/_static/figures/nb2_julia.png\" style=\"width:100%;height:100%\">\n",
    "\n",
    "  \n",
    "The notebook displays an *active cell*, into which you can type Julia commands"
   ]
  },
  {
   "cell_type": "markdown",
   "metadata": {},
   "source": [
    "### Notebook Basics\n",
    "\n",
    "Notice that in the previous figure the cell is surrounded by a blue border\n",
    "\n",
    "This means that the cell is selected, and double-clicking will place it in edit mode\n",
    "\n",
    "As a result, you can type in Julia code and it will appear in the cell\n",
    "\n",
    "When you’re ready to execute these commands, hit `Shift-Enter`\n",
    "\n",
    "<img src=\"https://s3-ap-southeast-2.amazonaws.com/lectures.quantecon.org/jl/_static/figures/nb3_julia.png\" style=\"width:100%;height:100%\">"
   ]
  },
  {
   "cell_type": "markdown",
   "metadata": {},
   "source": [
    "#### Modal Editing\n",
    "\n",
    "The next thing to understand about the Jupyter notebook is that it uses a *modal* editing system\n",
    "\n",
    "This means that the effect of typing at the keyboard **depends on which mode you are in**\n",
    "\n",
    "The two modes are\n",
    "\n",
    "1. Edit mode  \n",
    "  \n",
    "  - Indicated by a green border around one cell, as in the pictures above  \n",
    "  - Whatever you type appears as is in that cell  \n",
    "  \n",
    "1. Command mode  \n",
    "  \n",
    "  - The green border is replaced by a blue border  \n",
    "  - Key strokes are interpreted as commands — for example, typing b adds a new cell below  the current one  \n",
    "  \n",
    "\n",
    "\n",
    "(To learn about other commands available in command mode, go to “Keyboard Shortcuts” in the “Help” menu)"
   ]
  },
  {
   "cell_type": "markdown",
   "metadata": {},
   "source": [
    "#### Switching modes\n",
    "\n",
    "- To switch to command mode from edit mode, hit the `Esc` key  \n",
    "- To switch to edit mode from command mode, hit `Enter` or click in a cell  \n",
    "\n",
    "\n",
    "The modal behavior of the Jupyter notebook is a little tricky at first but very efficient when you get used to it"
   ]
  },
  {
   "cell_type": "markdown",
   "metadata": {},
   "source": [
    "#### Working with Files\n",
    "\n",
    "To run an existing Julia file using the notebook you can copy and paste the contents into a cell in the notebook\n",
    "\n",
    "If it’s a long file, however, you have the alternative of\n",
    "\n",
    "1. Saving the file in your **present working directory**  \n",
    "1. Executing `include(\"filename\")` in a cell  \n",
    "\n",
    "\n",
    "The present working directory can be found by executing the command `pwd()`"
   ]
  },
  {
   "cell_type": "markdown",
   "metadata": {},
   "source": [
    "#### Plots\n",
    "\n",
    "Note that if you’re using a JupyterHub setup, you will need to first run"
   ]
  },
  {
   "cell_type": "code",
   "execution_count": null,
   "metadata": {
    "hide-output": false
   },
   "outputs": [],
   "source": [
    "using InstantiateFromURL\n",
    "activate_github(\"QuantEcon/QuantEconLectureAllPackages\", tag = \"v0.9.5\");"
   ]
  },
  {
   "cell_type": "markdown",
   "metadata": {},
   "source": [
    "in a new cell (i.e., `Shift + Enter`)\n",
    "\n",
    "This might take 15-20 minutes depending on your setup, as it installs a large set of packages for our use\n",
    "\n",
    "Run the following cell"
   ]
  },
  {
   "cell_type": "code",
   "execution_count": null,
   "metadata": {
    "hide-output": false
   },
   "outputs": [],
   "source": [
    "using Plots\n",
    "gr(fmt=:png);\n",
    "plot(sin, -2π, 2π, label=\"sin(x)\")"
   ]
  },
  {
   "cell_type": "markdown",
   "metadata": {},
   "source": [
    "You’ll see something like this (although the style of plot depends on your\n",
    "installation)\n",
    "\n",
    "<img src=\"https://s3-ap-southeast-2.amazonaws.com/lectures.quantecon.org/jl/_static/figures/nb4_julia.png\" style=\"width:100%;height:100%\">\n",
    "\n",
    "  \n",
    "**Note**: The “time-to-first-plot” in Julia takes a while, since it needs to compile many functions - but is almost instantaneous the second time you run the cell"
   ]
  },
  {
   "cell_type": "markdown",
   "metadata": {},
   "source": [
    "### Working with the Notebook\n",
    "\n",
    "Let’s go over some more Jupyter notebook features — enough so that we can press ahead with programming"
   ]
  },
  {
   "cell_type": "markdown",
   "metadata": {},
   "source": [
    "#### Tab Completion\n",
    "\n",
    "Tab completion in Jupyter makes it easy to find Julia commands and functions available\n",
    "\n",
    "For example if you type `rep` and hit the tab key you’ll get a list of all\n",
    "commands that start with `rep`\n",
    "\n",
    "<img src=\"https://s3-ap-southeast-2.amazonaws.com/lectures.quantecon.org/jl/_static/figures/nb5_julia.png\" style=\"width:100%;height:100%\">\n",
    "\n",
    "  \n",
    "\n",
    "<a id='gs-help'></a>"
   ]
  },
  {
   "cell_type": "markdown",
   "metadata": {},
   "source": [
    "#### Getting Help\n",
    "\n",
    "To get help on the Julia function such as `repeat`, enter `? repeat`\n",
    "\n",
    "Documentation should now appear in the browser\n",
    "\n",
    "<img src=\"https://s3-ap-southeast-2.amazonaws.com/lectures.quantecon.org/jl/_static/figures/repeatexample.png\" style=\"width:100%;height:100%\">"
   ]
  },
  {
   "cell_type": "markdown",
   "metadata": {},
   "source": [
    "#### Other Content\n",
    "\n",
    "In addition to executing code, the Jupyter notebook allows you to embed text, equations, figures and even videos in the page\n",
    "\n",
    "For example, here we enter a mixture of plain text and LaTeX instead of code\n",
    "\n",
    "<img src=\"https://s3-ap-southeast-2.amazonaws.com/lectures.quantecon.org/jl/_static/figures/nb6_julia.png\" style=\"width:100%;height:100%\">\n",
    "\n",
    "  \n",
    "Next we `Esc` to enter command mode and then type `m` to indicate that we\n",
    "are writing [Markdown](http://daringfireball.net/projects/markdown/), a mark-up language similar to (but simpler than) LaTeX\n",
    "\n",
    "(You can also use your mouse to select `Markdown` from the `Code` drop-down box just below the list of menu items)\n",
    "\n",
    "Now we `Shift + Enter` to produce this\n",
    "\n",
    "<img src=\"https://s3-ap-southeast-2.amazonaws.com/lectures.quantecon.org/jl/_static/figures/nb7_julia.png\" style=\"width:100%;height:100%\">"
   ]
  },
  {
   "cell_type": "markdown",
   "metadata": {},
   "source": [
    "#### Inserting unicode (e.g. Greek letters)\n",
    "\n",
    "Julia supports the use of [unicode characters](https://docs.julialang.org/en/v1/manual/unicode-input/)\n",
    "such as `α` and `β` in your code\n",
    "\n",
    "Unicode characters can be typed quickly in Jupyter using the `tab` key\n",
    "\n",
    "Try creating a new code cell and typing `\\alpha`, then hitting the `tab` key on your keyboard"
   ]
  },
  {
   "cell_type": "markdown",
   "metadata": {},
   "source": [
    "#### Shell Commands\n",
    "\n",
    "You can execute shell commands (system commands) in Jupyter by prepending a semicolon\n",
    "\n",
    "For example, `; ls` will execute the UNIX style shell command `ls`,\n",
    "which — at least for UNIX style operating systems — lists the\n",
    "contents of the current working directory\n",
    "\n",
    "These shell commands are handled by your default system shell and hence are platform specific"
   ]
  },
  {
   "cell_type": "markdown",
   "metadata": {},
   "source": [
    "#### Package Operations\n",
    "\n",
    "You can execute package operations in the notebook by prepending a `]`\n",
    "\n",
    "For example, `] st` will give the status of installed packages in the current environment\n",
    "\n",
    "**Note**: Cells where you use `;` and `]` must not have any other instructions in them (i.e., they should be one-liners)"
   ]
  },
  {
   "cell_type": "markdown",
   "metadata": {},
   "source": [
    "### Sharing Notebooks\n",
    "\n",
    "Notebook files are just text files structured in [JSON](https://en.wikipedia.org/wiki/JSON) and typically end with `.ipynb`\n",
    "\n",
    "A notebook can easily be saved and shared between users — you just need to\n",
    "pass around the `ipynb` file\n",
    "\n",
    "To open an existing `ipynb` file, import it from the dashboard (the first\n",
    "browser page that opens when you start Jupyter notebook) and run the cells or edit as discussed above\n",
    "\n",
    "The Jupyter organization has a site for sharing notebooks called [nbviewer](http://nbviewer.jupyter.org/)\n",
    "which provides a static HTML representations of notebooks\n",
    "\n",
    "QuantEcon also hosts the [QuantEcon Notes](http://notes.quantecon.org/) website, where you can upload and share your notebooks with other economists and the QuantEcon community\n",
    "\n",
    "\n",
    "<a id='julia-repl'></a>"
   ]
  },
  {
   "cell_type": "markdown",
   "metadata": {},
   "source": [
    "## Using the REPL\n",
    "\n",
    "As we saw in the [desktop installation](https://lectures.quantecon.org/jl/getting_started.html#intro-repl), the REPL is a Julia specific terminal\n",
    "\n",
    "It becomes increasingly important as you learn Julia, and you will find it to be a useful tool for interacting with Julia and installing packages\n",
    "\n",
    "As a reminder, to open the REPL on your desktop, either\n",
    "\n",
    "1. Navigating to Julia through your menus or desktop icons (Windows, Mac), or  \n",
    "1. Opening a terminal and typing `julia` (Linux)  \n",
    "\n",
    "\n",
    "If you are using a JupyterHub installation, you can start the REPL in JupyterLab by choosing\n",
    "\n",
    "1. Choose “New Launcher”  \n",
    "1. Choose a `Julia 1.0` Console  \n",
    "\n",
    "\n",
    "We examine the REPL and its different modes in more detail in the [tools and editors](https://lectures.quantecon.org/jl/tools_editors.html#repl-main) lecture"
   ]
  }
 ],
 "metadata": {
  "filename": "julia_environment.rst",
  "kernelspec": {
   "display_name": "Julia",
   "language": "julia",
   "name": "julia-1.0"
  },
  "title": "Interacting with Julia"
 },
 "nbformat": 4,
 "nbformat_minor": 2
}