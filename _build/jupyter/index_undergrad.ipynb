{
 "cells": [
  {
   "cell_type": "markdown",
   "metadata": {},
   "source": [
    "# Home\n",
    "\n",
    "<p id=\"numfocus_badge\"><a href=\"https://www.numfocus.org/\"><img src=\"/_static/img/powered-by-NumFOCUS-orange.svg\" alt=\"Powered by NumFOCUS logo\"></a></p>"
   ]
  },
  {
   "cell_type": "markdown",
   "metadata": {},
   "source": [
    "# Table of Contents (Julia)\n",
    "\n",
    "<ul class=\"index-tabs\">\n",
    "    <li><a href=\"/jl/\">All</a></li>\n",
    "    <li class=\"active\"><a href=\"/jl/index_undergrad.html\">Undergraduate course</a></li>\n",
    "    <li><a href=\"/jl/index_postgrad.html\">Graduate course</a></li>\n",
    "</ul>\n",
    "\n",
    "- [Getting Started with Julia](https://lectures.quantecon.org/jl/index_getting_started_julia.html)\n",
    "  - [Setting up Your Julia Environment](https://lectures.quantecon.org/jl/getting_started.html)\n",
    "  - [Interacting with Julia](https://lectures.quantecon.org/jl/julia_environment.html)\n",
    "  - [Introductory Examples](https://lectures.quantecon.org/jl/julia_by_example.html)\n",
    "  - [Julia Essentials](https://lectures.quantecon.org/jl/julia_essentials.html)\n",
    "  - [Arrays, Tuples, Ranges, and Other Fundamental Types](https://lectures.quantecon.org/jl/fundamental_types.html)\n",
    "  - [Introduction to Types and Generic Programming](https://lectures.quantecon.org/jl/introduction_to_types.html)\n",
    "- [Packages and Software Engineering in Julia](https://lectures.quantecon.org/jl/index_more_julia.html)\n",
    "  - [Generic Programming](https://lectures.quantecon.org/jl/generic_programming.html)\n",
    "  - [General Purpose Packages](https://lectures.quantecon.org/jl/general_packages.html)\n",
    "  - [Data and Statistics Packages](https://lectures.quantecon.org/jl/data_statistical_packages.html)\n",
    "  - [Solvers, Optimizers, and Automatic Differentiation](https://lectures.quantecon.org/jl/optimization_solver_packages.html)\n",
    "  - [Julia Tools and Editors](https://lectures.quantecon.org/jl/tools_editors.html)\n",
    "  - [Git, GitHub, and Version Control](https://lectures.quantecon.org/jl/version_control.html)\n",
    "  - [Packages, Testing, and Continuous Integration](https://lectures.quantecon.org/jl/testing.html)\n",
    "  - [The Need for Speed](https://lectures.quantecon.org/jl/need_for_speed.html)\n",
    "- [Tools and Techniques](https://lectures.quantecon.org/jl/index_tools_and_techniques_undergrad.html)\n",
    "  - [Linear Algebra](https://lectures.quantecon.org/jl/linear_algebra.html)\n",
    "  - [LLN and CLT](https://lectures.quantecon.org/jl/lln_clt.html)\n",
    "  - [Linear State Space Models](https://lectures.quantecon.org/jl/linear_models.html)\n",
    "  - [Finite Markov Chains](https://lectures.quantecon.org/jl/finite_markov.html)\n",
    "  - [A First Look at the Kalman Filter](https://lectures.quantecon.org/jl/kalman.html)\n",
    "- [Dynamic Programming](https://lectures.quantecon.org/jl/index_dynamic_programming_undergrad.html)\n",
    "  - [Shortest Paths](https://lectures.quantecon.org/jl/short_path.html)\n",
    "  - [Job Search I: The McCall Search Model](https://lectures.quantecon.org/jl/mccall_model.html)\n",
    "  - [Job Search II: Search and Separation](https://lectures.quantecon.org/jl/mccall_model_with_separation.html)\n",
    "  - [Optimal Savings I: The Permanent Income Model](https://lectures.quantecon.org/jl/perm_income.html)\n",
    "  - [Optimal Savings II: LQ Techniques](https://lectures.quantecon.org/jl/perm_income_cons.html)\n",
    "  - [Consumption and Tax Smoothing with Complete and Incomplete Markets](https://lectures.quantecon.org/jl/smoothing.html)\n",
    "- [Multiple Agent Models](https://lectures.quantecon.org/jl/index_multi_agent_models_undergrad.html)\n",
    "  - [Schelling’s Segregation Model](https://lectures.quantecon.org/jl/schelling.html)\n",
    "  - [A Lake Model of Employment and Unemployment](https://lectures.quantecon.org/jl/lake_model.html)\n",
    "  - [Rational Expectations Equilibrium](https://lectures.quantecon.org/jl/rational_expectations.html)\n",
    "  - [Markov Perfect Equilibrium](https://lectures.quantecon.org/jl/markov_perf.html)\n",
    "  - [Asset Pricing I: Finite State Models](https://lectures.quantecon.org/jl/markov_asset.html)\n",
    "- [References](https://lectures.quantecon.org/jl/zreferences.html)\n",
    "\n",
    "\n",
    "<img src=\"https://s3-ap-southeast-2.amazonaws.com/lectures.quantecon.org/jl/_static/banner.png\" style=\"width:30%;height:30%\" align=\"center\">"
   ]
  }
 ],
 "metadata": {
  "filename": "index_undergrad.rst",
  "kernelspec": {
   "display_name": "Julia",
   "language": "julia",
   "name": "julia-1.0"
  },
  "title": "Home"
 },
 "nbformat": 4,
 "nbformat_minor": 2
}